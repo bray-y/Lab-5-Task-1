{
 "cells": [
  {
   "cell_type": "markdown",
   "metadata": {
    "id": "S0KvgYslI64f"
   },
   "source": [
    "# Great Expectations Task"
   ]
  },
  {
   "cell_type": "markdown",
   "metadata": {
    "id": "9R147FfXJG4F"
   },
   "source": [
    "## 1. Install Great Expectations Library\n"
   ]
  },
  {
   "cell_type": "code",
   "execution_count": 349,
   "metadata": {
    "id": "TGqDcWNh3Y_-"
   },
   "outputs": [
    {
     "name": "stdout",
     "output_type": "stream",
     "text": [
      "Requirement already satisfied: great_expectations in c:\\users\\bralyn (school)\\appdata\\local\\programs\\python\\python312\\lib\\site-packages (1.3.12)\n",
      "Requirement already satisfied: altair<5.0.0,>=4.2.1 in c:\\users\\bralyn (school)\\appdata\\local\\programs\\python\\python312\\lib\\site-packages (from great_expectations) (4.2.2)\n",
      "Requirement already satisfied: cryptography>=3.2 in c:\\users\\bralyn (school)\\appdata\\local\\programs\\python\\python312\\lib\\site-packages (from great_expectations) (44.0.2)\n",
      "Requirement already satisfied: jinja2>=3 in c:\\users\\bralyn (school)\\appdata\\local\\programs\\python\\python312\\lib\\site-packages (from great_expectations) (3.1.6)\n",
      "Requirement already satisfied: jsonschema>=2.5.1 in c:\\users\\bralyn (school)\\appdata\\local\\programs\\python\\python312\\lib\\site-packages (from great_expectations) (4.23.0)\n",
      "Requirement already satisfied: marshmallow<4.0.0,>=3.7.1 in c:\\users\\bralyn (school)\\appdata\\local\\programs\\python\\python312\\lib\\site-packages (from great_expectations) (3.26.1)\n",
      "Requirement already satisfied: mistune>=0.8.4 in c:\\users\\bralyn (school)\\appdata\\local\\programs\\python\\python312\\lib\\site-packages (from great_expectations) (3.1.3)\n",
      "Requirement already satisfied: packaging in c:\\users\\bralyn (school)\\appdata\\local\\programs\\python\\python312\\lib\\site-packages (from great_expectations) (24.2)\n",
      "Requirement already satisfied: posthog<4,>3 in c:\\users\\bralyn (school)\\appdata\\local\\programs\\python\\python312\\lib\\site-packages (from great_expectations) (3.23.0)\n",
      "Requirement already satisfied: pydantic>=1.10.7 in c:\\users\\bralyn (school)\\appdata\\local\\programs\\python\\python312\\lib\\site-packages (from great_expectations) (2.11.1)\n",
      "Requirement already satisfied: pyparsing>=2.4 in c:\\users\\bralyn (school)\\appdata\\local\\programs\\python\\python312\\lib\\site-packages (from great_expectations) (3.2.3)\n",
      "Requirement already satisfied: python-dateutil>=2.8.1 in c:\\users\\bralyn (school)\\appdata\\local\\programs\\python\\python312\\lib\\site-packages (from great_expectations) (2.9.0.post0)\n",
      "Requirement already satisfied: requests>=2.20 in c:\\users\\bralyn (school)\\appdata\\local\\programs\\python\\python312\\lib\\site-packages (from great_expectations) (2.32.3)\n",
      "Requirement already satisfied: ruamel.yaml>=0.16 in c:\\users\\bralyn (school)\\appdata\\local\\programs\\python\\python312\\lib\\site-packages (from great_expectations) (0.18.10)\n",
      "Requirement already satisfied: scipy>=1.6.0 in c:\\users\\bralyn (school)\\appdata\\local\\programs\\python\\python312\\lib\\site-packages (from great_expectations) (1.15.2)\n",
      "Requirement already satisfied: tqdm>=4.59.0 in c:\\users\\bralyn (school)\\appdata\\local\\programs\\python\\python312\\lib\\site-packages (from great_expectations) (4.67.1)\n",
      "Requirement already satisfied: typing-extensions>=4.1.0 in c:\\users\\bralyn (school)\\appdata\\local\\programs\\python\\python312\\lib\\site-packages (from great_expectations) (4.13.0)\n",
      "Requirement already satisfied: tzlocal>=1.2 in c:\\users\\bralyn (school)\\appdata\\local\\programs\\python\\python312\\lib\\site-packages (from great_expectations) (5.3.1)\n",
      "Requirement already satisfied: numpy>=1.22.4 in c:\\users\\bralyn (school)\\appdata\\local\\programs\\python\\python312\\lib\\site-packages (from great_expectations) (1.26.4)\n",
      "Requirement already satisfied: pandas<2.2,>=1.3.0 in c:\\users\\bralyn (school)\\appdata\\local\\programs\\python\\python312\\lib\\site-packages (from great_expectations) (2.1.4)\n",
      "Requirement already satisfied: entrypoints in c:\\users\\bralyn (school)\\appdata\\local\\programs\\python\\python312\\lib\\site-packages (from altair<5.0.0,>=4.2.1->great_expectations) (0.4)\n",
      "Requirement already satisfied: toolz in c:\\users\\bralyn (school)\\appdata\\local\\programs\\python\\python312\\lib\\site-packages (from altair<5.0.0,>=4.2.1->great_expectations) (1.0.0)\n",
      "Requirement already satisfied: cffi>=1.12 in c:\\users\\bralyn (school)\\appdata\\local\\programs\\python\\python312\\lib\\site-packages (from cryptography>=3.2->great_expectations) (1.17.1)\n",
      "Requirement already satisfied: MarkupSafe>=2.0 in c:\\users\\bralyn (school)\\appdata\\local\\programs\\python\\python312\\lib\\site-packages (from jinja2>=3->great_expectations) (3.0.2)\n",
      "Requirement already satisfied: attrs>=22.2.0 in c:\\users\\bralyn (school)\\appdata\\local\\programs\\python\\python312\\lib\\site-packages (from jsonschema>=2.5.1->great_expectations) (25.3.0)\n",
      "Requirement already satisfied: jsonschema-specifications>=2023.03.6 in c:\\users\\bralyn (school)\\appdata\\local\\programs\\python\\python312\\lib\\site-packages (from jsonschema>=2.5.1->great_expectations) (2024.10.1)\n",
      "Requirement already satisfied: referencing>=0.28.4 in c:\\users\\bralyn (school)\\appdata\\local\\programs\\python\\python312\\lib\\site-packages (from jsonschema>=2.5.1->great_expectations) (0.36.2)\n",
      "Requirement already satisfied: rpds-py>=0.7.1 in c:\\users\\bralyn (school)\\appdata\\local\\programs\\python\\python312\\lib\\site-packages (from jsonschema>=2.5.1->great_expectations) (0.24.0)\n",
      "Requirement already satisfied: pytz>=2020.1 in c:\\users\\bralyn (school)\\appdata\\local\\programs\\python\\python312\\lib\\site-packages (from pandas<2.2,>=1.3.0->great_expectations) (2025.2)\n",
      "Requirement already satisfied: tzdata>=2022.1 in c:\\users\\bralyn (school)\\appdata\\local\\programs\\python\\python312\\lib\\site-packages (from pandas<2.2,>=1.3.0->great_expectations) (2025.2)\n",
      "Requirement already satisfied: six>=1.5 in c:\\users\\bralyn (school)\\appdata\\local\\programs\\python\\python312\\lib\\site-packages (from posthog<4,>3->great_expectations) (1.17.0)\n",
      "Requirement already satisfied: monotonic>=1.5 in c:\\users\\bralyn (school)\\appdata\\local\\programs\\python\\python312\\lib\\site-packages (from posthog<4,>3->great_expectations) (1.6)\n",
      "Requirement already satisfied: backoff>=1.10.0 in c:\\users\\bralyn (school)\\appdata\\local\\programs\\python\\python312\\lib\\site-packages (from posthog<4,>3->great_expectations) (2.2.1)\n",
      "Requirement already satisfied: distro>=1.5.0 in c:\\users\\bralyn (school)\\appdata\\local\\programs\\python\\python312\\lib\\site-packages (from posthog<4,>3->great_expectations) (1.9.0)\n",
      "Requirement already satisfied: annotated-types>=0.6.0 in c:\\users\\bralyn (school)\\appdata\\local\\programs\\python\\python312\\lib\\site-packages (from pydantic>=1.10.7->great_expectations) (0.7.0)\n",
      "Requirement already satisfied: pydantic-core==2.33.0 in c:\\users\\bralyn (school)\\appdata\\local\\programs\\python\\python312\\lib\\site-packages (from pydantic>=1.10.7->great_expectations) (2.33.0)\n",
      "Requirement already satisfied: typing-inspection>=0.4.0 in c:\\users\\bralyn (school)\\appdata\\local\\programs\\python\\python312\\lib\\site-packages (from pydantic>=1.10.7->great_expectations) (0.4.0)\n",
      "Requirement already satisfied: charset-normalizer<4,>=2 in c:\\users\\bralyn (school)\\appdata\\local\\programs\\python\\python312\\lib\\site-packages (from requests>=2.20->great_expectations) (3.4.1)\n",
      "Requirement already satisfied: idna<4,>=2.5 in c:\\users\\bralyn (school)\\appdata\\local\\programs\\python\\python312\\lib\\site-packages (from requests>=2.20->great_expectations) (3.10)\n",
      "Requirement already satisfied: urllib3<3,>=1.21.1 in c:\\users\\bralyn (school)\\appdata\\local\\programs\\python\\python312\\lib\\site-packages (from requests>=2.20->great_expectations) (2.3.0)\n",
      "Requirement already satisfied: certifi>=2017.4.17 in c:\\users\\bralyn (school)\\appdata\\local\\programs\\python\\python312\\lib\\site-packages (from requests>=2.20->great_expectations) (2025.1.31)\n",
      "Requirement already satisfied: ruamel.yaml.clib>=0.2.7 in c:\\users\\bralyn (school)\\appdata\\local\\programs\\python\\python312\\lib\\site-packages (from ruamel.yaml>=0.16->great_expectations) (0.2.12)\n",
      "Requirement already satisfied: colorama in c:\\users\\bralyn (school)\\appdata\\local\\programs\\python\\python312\\lib\\site-packages (from tqdm>=4.59.0->great_expectations) (0.4.6)\n",
      "Requirement already satisfied: pycparser in c:\\users\\bralyn (school)\\appdata\\local\\programs\\python\\python312\\lib\\site-packages (from cffi>=1.12->cryptography>=3.2->great_expectations) (2.22)\n"
     ]
    },
    {
     "name": "stderr",
     "output_type": "stream",
     "text": [
      "\n",
      "[notice] A new release of pip is available: 23.2.1 -> 25.0.1\n",
      "[notice] To update, run: C:\\Users\\Bralyn (School)\\AppData\\Local\\Programs\\Python\\Python312\\python.exe -m pip install --upgrade pip\n"
     ]
    }
   ],
   "source": [
    "!pip install great_expectations"
   ]
  },
  {
   "cell_type": "markdown",
   "metadata": {
    "id": "fWSO9h40JZjg"
   },
   "source": [
    "##2. Import Necessary Libraries"
   ]
  },
  {
   "cell_type": "code",
   "execution_count": 350,
   "metadata": {
    "id": "77qWdq8yVVEl"
   },
   "outputs": [],
   "source": [
    "import pandas as pd\n",
    "import great_expectations as gx"
   ]
  },
  {
   "cell_type": "markdown",
   "metadata": {
    "id": "Fdt5KucDJu-h"
   },
   "source": [
    "##3. Load Labels.csv"
   ]
  },
  {
   "cell_type": "markdown",
   "metadata": {
    "id": "pP3MW4uUhwAR"
   },
   "source": [
    "Download and upload the [Labels.csv](https://github.com/zubxxr/SOFE3980U-Lab5/blob/main/Labels.csv) into this notebook, and then load the file."
   ]
  },
  {
   "cell_type": "code",
   "execution_count": 351,
   "metadata": {
    "id": "ogHUyzFKdS5z"
   },
   "outputs": [],
   "source": [
    "df = pd.read_csv(\"Labels.csv\")"
   ]
  },
  {
   "cell_type": "markdown",
   "metadata": {
    "id": "2BCIXXwdJyS7"
   },
   "source": [
    "##4. Preview the Dataset"
   ]
  },
  {
   "cell_type": "code",
   "execution_count": 352,
   "metadata": {
    "id": "OXpbbmRsVj0k"
   },
   "outputs": [
    {
     "data": {
      "text/html": [
       "<div>\n",
       "<style scoped>\n",
       "    .dataframe tbody tr th:only-of-type {\n",
       "        vertical-align: middle;\n",
       "    }\n",
       "\n",
       "    .dataframe tbody tr th {\n",
       "        vertical-align: top;\n",
       "    }\n",
       "\n",
       "    .dataframe thead th {\n",
       "        text-align: right;\n",
       "    }\n",
       "</style>\n",
       "<table border=\"1\" class=\"dataframe\">\n",
       "  <thead>\n",
       "    <tr style=\"text-align: right;\">\n",
       "      <th></th>\n",
       "      <th>Timestamp</th>\n",
       "      <th>Car1_Location_X</th>\n",
       "      <th>Car1_Location_Y</th>\n",
       "      <th>Car1_Location_Z</th>\n",
       "      <th>Car2_Location_X</th>\n",
       "      <th>Car2_Location_Y</th>\n",
       "      <th>Car2_Location_Z</th>\n",
       "      <th>Occluded_Image_view</th>\n",
       "      <th>Occluding_Car_view</th>\n",
       "      <th>Ground_Truth_View</th>\n",
       "      <th>pedestrianLocationX_TopLeft</th>\n",
       "      <th>pedestrianLocationY_TopLeft</th>\n",
       "      <th>pedestrianLocationX_BottomRight</th>\n",
       "      <th>pedestrianLocationY_BottomRight</th>\n",
       "    </tr>\n",
       "  </thead>\n",
       "  <tbody>\n",
       "    <tr>\n",
       "      <th>0</th>\n",
       "      <td>1736796157</td>\n",
       "      <td>-51.402977</td>\n",
       "      <td>143</td>\n",
       "      <td>0.596902</td>\n",
       "      <td>-59.320270</td>\n",
       "      <td>140</td>\n",
       "      <td>0.596902</td>\n",
       "      <td>A_001.png</td>\n",
       "      <td>B_001.png</td>\n",
       "      <td>C_001.png</td>\n",
       "      <td>593</td>\n",
       "      <td>361</td>\n",
       "      <td>610</td>\n",
       "      <td>410</td>\n",
       "    </tr>\n",
       "    <tr>\n",
       "      <th>1</th>\n",
       "      <td>1736796167</td>\n",
       "      <td>-53.819637</td>\n",
       "      <td>143</td>\n",
       "      <td>0.596902</td>\n",
       "      <td>-59.196568</td>\n",
       "      <td>140</td>\n",
       "      <td>0.596902</td>\n",
       "      <td>A_002.png</td>\n",
       "      <td>B_002.png</td>\n",
       "      <td>C_002.png</td>\n",
       "      <td>579</td>\n",
       "      <td>368</td>\n",
       "      <td>594</td>\n",
       "      <td>415</td>\n",
       "    </tr>\n",
       "    <tr>\n",
       "      <th>2</th>\n",
       "      <td>1736796178</td>\n",
       "      <td>-50.239144</td>\n",
       "      <td>143</td>\n",
       "      <td>0.596902</td>\n",
       "      <td>-56.744479</td>\n",
       "      <td>140</td>\n",
       "      <td>0.596902</td>\n",
       "      <td>A_003.png</td>\n",
       "      <td>B_003.png</td>\n",
       "      <td>C_003.png</td>\n",
       "      <td>854</td>\n",
       "      <td>720</td>\n",
       "      <td>854</td>\n",
       "      <td>720</td>\n",
       "    </tr>\n",
       "    <tr>\n",
       "      <th>3</th>\n",
       "      <td>1736796188</td>\n",
       "      <td>-53.707220</td>\n",
       "      <td>143</td>\n",
       "      <td>0.596902</td>\n",
       "      <td>-57.309380</td>\n",
       "      <td>140</td>\n",
       "      <td>0.596902</td>\n",
       "      <td>A_004.png</td>\n",
       "      <td>B_004.png</td>\n",
       "      <td>C_004.png</td>\n",
       "      <td>549</td>\n",
       "      <td>368</td>\n",
       "      <td>567</td>\n",
       "      <td>425</td>\n",
       "    </tr>\n",
       "    <tr>\n",
       "      <th>4</th>\n",
       "      <td>1736796198</td>\n",
       "      <td>-52.053721</td>\n",
       "      <td>143</td>\n",
       "      <td>0.596902</td>\n",
       "      <td>-59.545897</td>\n",
       "      <td>140</td>\n",
       "      <td>0.596902</td>\n",
       "      <td>A_005.png</td>\n",
       "      <td>B_005.png</td>\n",
       "      <td>C_005.png</td>\n",
       "      <td>524</td>\n",
       "      <td>368</td>\n",
       "      <td>537</td>\n",
       "      <td>413</td>\n",
       "    </tr>\n",
       "  </tbody>\n",
       "</table>\n",
       "</div>"
      ],
      "text/plain": [
       "    Timestamp  Car1_Location_X  Car1_Location_Y  Car1_Location_Z  \\\n",
       "0  1736796157       -51.402977              143         0.596902   \n",
       "1  1736796167       -53.819637              143         0.596902   \n",
       "2  1736796178       -50.239144              143         0.596902   \n",
       "3  1736796188       -53.707220              143         0.596902   \n",
       "4  1736796198       -52.053721              143         0.596902   \n",
       "\n",
       "   Car2_Location_X  Car2_Location_Y  Car2_Location_Z Occluded_Image_view  \\\n",
       "0       -59.320270              140         0.596902           A_001.png   \n",
       "1       -59.196568              140         0.596902           A_002.png   \n",
       "2       -56.744479              140         0.596902           A_003.png   \n",
       "3       -57.309380              140         0.596902           A_004.png   \n",
       "4       -59.545897              140         0.596902           A_005.png   \n",
       "\n",
       "  Occluding_Car_view Ground_Truth_View  pedestrianLocationX_TopLeft  \\\n",
       "0          B_001.png         C_001.png                          593   \n",
       "1          B_002.png         C_002.png                          579   \n",
       "2          B_003.png         C_003.png                          854   \n",
       "3          B_004.png         C_004.png                          549   \n",
       "4          B_005.png         C_005.png                          524   \n",
       "\n",
       "   pedestrianLocationY_TopLeft  pedestrianLocationX_BottomRight  \\\n",
       "0                          361                              610   \n",
       "1                          368                              594   \n",
       "2                          720                              854   \n",
       "3                          368                              567   \n",
       "4                          368                              537   \n",
       "\n",
       "   pedestrianLocationY_BottomRight  \n",
       "0                              410  \n",
       "1                              415  \n",
       "2                              720  \n",
       "3                              425  \n",
       "4                              413  "
      ]
     },
     "execution_count": 352,
     "metadata": {},
     "output_type": "execute_result"
    }
   ],
   "source": [
    "df.head()"
   ]
  },
  {
   "cell_type": "markdown",
   "metadata": {
    "id": "WwljyFlFJ1A8"
   },
   "source": [
    "##5. Set Up Great Expectations Context and Data Source"
   ]
  },
  {
   "cell_type": "code",
   "execution_count": 353,
   "metadata": {
    "id": "SxSmTGmZVk5U"
   },
   "outputs": [],
   "source": [
    "context = gx.get_context()"
   ]
  },
  {
   "cell_type": "markdown",
   "metadata": {
    "id": "IHl4W07zJ5-A"
   },
   "source": [
    "##6. Define and Create a Data Batch"
   ]
  },
  {
   "cell_type": "code",
   "execution_count": 354,
   "metadata": {
    "id": "dTdpe1tVhpgp"
   },
   "outputs": [],
   "source": [
    "import great_expectations as ge\n",
    "import json\n",
    "from great_expectations.core import ExpectationSuite\n",
    "\n",
    "suite_name = \"my_suite\"\n",
    "\n",
    "# Get a persistent context\n",
    "context = ge.get_context(mode=\"file\")\n",
    "\n",
    "# Create the expectation suite\n",
    "suite = ExpectationSuite(suite_name)\n",
    "\n",
    "# Serialize the suite to a JSON string\n",
    "suite_json = json.dumps(suite.to_json_dict())\n",
    "\n",
    "# Register the suite directly in the expectations store using the suite_name as a tuple key\n",
    "context.expectations_store._store_backend.set((suite_name,), suite_json)\n",
    "\n",
    "# Save the context (if needed)\n",
    "context._save_project_config()"
   ]
  },
  {
   "cell_type": "markdown",
   "metadata": {
    "id": "JhVlKGYXJ8Tf"
   },
   "source": [
    "##7. Define Three Expectations for Column Values"
   ]
  },
  {
   "cell_type": "markdown",
   "metadata": {
    "id": "8ixvqF3OYnlt"
   },
   "source": [
    "Using this [link](https://greatexpectations.io/expectations/), choose three expectation functions and apply them to the labels dataset in a relevant manner.\n",
    "\n",
    "You should replace the 'ExpectColumnValuesToBeBetween' function with other functions you select from the link.\n",
    "\n",
    "You can also check the format/parameters required of each function when you click \"See more\" on the function."
   ]
  },
  {
   "cell_type": "code",
   "execution_count": 355,
   "metadata": {
    "id": "O2JMz9pScU6n"
   },
   "outputs": [
    {
     "ename": "AttributeError",
     "evalue": "'FileDataContext' object has no attribute 'sources'",
     "output_type": "error",
     "traceback": [
      "\u001b[31m---------------------------------------------------------------------------\u001b[39m",
      "\u001b[31mAttributeError\u001b[39m                            Traceback (most recent call last)",
      "\u001b[36mCell\u001b[39m\u001b[36m \u001b[39m\u001b[32mIn[355]\u001b[39m\u001b[32m, line 20\u001b[39m\n\u001b[32m     18\u001b[39m \u001b[38;5;66;03m# ✅ Add a Pandas-based Fluent Datasource using the Fluent API\u001b[39;00m\n\u001b[32m     19\u001b[39m datasource_name = \u001b[33m\"\u001b[39m\u001b[33mmy_pandas_source\u001b[39m\u001b[33m\"\u001b[39m\n\u001b[32m---> \u001b[39m\u001b[32m20\u001b[39m \u001b[43mcontext\u001b[49m\u001b[43m.\u001b[49m\u001b[43msources\u001b[49m.add_pandas(\n\u001b[32m     21\u001b[39m     name=datasource_name,\n\u001b[32m     22\u001b[39m     path=csv_path\n\u001b[32m     23\u001b[39m )\n\u001b[32m     25\u001b[39m \u001b[38;5;66;03m# ✅ Create a batch request\u001b[39;00m\n\u001b[32m     26\u001b[39m \u001b[38;5;28;01mfrom\u001b[39;00m\u001b[38;5;250m \u001b[39m\u001b[34;01mgreat_expectations\u001b[39;00m\u001b[34;01m.\u001b[39;00m\u001b[34;01mcore\u001b[39;00m\u001b[34;01m.\u001b[39;00m\u001b[34;01mbatch\u001b[39;00m\u001b[38;5;250m \u001b[39m\u001b[38;5;28;01mimport\u001b[39;00m RuntimeBatchRequest\n",
      "\u001b[31mAttributeError\u001b[39m: 'FileDataContext' object has no attribute 'sources'"
     ]
    }
   ],
   "source": [
    "import os\n",
    "import pandas as pd\n",
    "import great_expectations as ge\n",
    "\n",
    "# Ensure the 'data' directory exists\n",
    "os.makedirs(\"data\", exist_ok=True)\n",
    "\n",
    "# Create a simple DataFrame\n",
    "my_data = pd.DataFrame({\"label\": [0, 1, 2, 0, 1, 2, None]})\n",
    "\n",
    "# Save the DataFrame as CSV\n",
    "csv_path = \"data/my_data.csv\"\n",
    "my_data.to_csv(csv_path, index=False)\n",
    "\n",
    "# Initialize the Great Expectations context\n",
    "context = ge.get_context()\n",
    "\n",
    "# Add a Pandas-based Fluent Datasource using the Fluent API\n",
    "datasource_name = \"my_pandas_source\"\n",
    "context.sources.add_pandas(\n",
    "    name=datasource_name,\n",
    "    path=csv_path\n",
    ")\n",
    "\n",
    "# Create a batch request\n",
    "from great_expectations.core.batch import RuntimeBatchRequest\n",
    "\n",
    "batch_request = RuntimeBatchRequest(\n",
    "    datasource_name=datasource_name,\n",
    "    data_connector_name=\"default_runtime_data_connector\",\n",
    "    data_asset_name=\"my_data_asset\",\n",
    "    runtime_parameters={\"batch_data\": my_data},  # Use the in-memory DataFrame\n",
    "    batch_identifiers={\"batch_id\": \"001\"},\n",
    ")\n",
    "\n",
    "# Create an Expectation Suite\n",
    "suite_name = \"my_suite\"\n",
    "context.create_expectation_suite(suite_name, overwrite_existing=True)\n",
    "\n",
    "# Get a Validator\n",
    "validator = context.get_validator(\n",
    "    batch_request=batch_request,\n",
    "    expectation_suite_name=suite_name,\n",
    ")\n",
    "\n",
    "# Add an expectation to check for non-null values\n",
    "validator.expect_column_values_to_not_be_null(column=\"label\")\n",
    "\n",
    "# Save expectations\n",
    "validator.save_expectation_suite(discard_failed_expectations=False)\n",
    "\n",
    "# Run validation (the final checkpoint)\n",
    "checkpoint_name = \"my_checkpoint\"\n",
    "context.add_or_update_checkpoint(\n",
    "    name=checkpoint_name,\n",
    "    validator=validator,\n",
    ").run()\n",
    "\n",
    "print(\"Great Expectations setup completed successfully!\")"
   ]
  },
  {
   "cell_type": "markdown",
   "metadata": {
    "id": "gaIvn5Y-Mazw"
   },
   "source": [
    "### Expectation 1"
   ]
  },
  {
   "cell_type": "code",
   "execution_count": null,
   "metadata": {
    "id": "PJw-qrNyhsIX"
   },
   "outputs": [],
   "source": [
    "expectation_1 = validator.expect_column_values_to_be_in_set(\"label\", [0, 1, 2])"
   ]
  },
  {
   "cell_type": "markdown",
   "metadata": {
    "id": "iaWGD8GL8jSA"
   },
   "source": [
    "### Validate Data Against Expectation 1"
   ]
  },
  {
   "cell_type": "code",
   "execution_count": null,
   "metadata": {
    "id": "zE_iE0yr8k9y"
   },
   "outputs": [],
   "source": [
    "print(\"Expectation 1 Results:\", expectation_1)"
   ]
  },
  {
   "cell_type": "markdown",
   "metadata": {
    "id": "37TjcPpxYiMZ"
   },
   "source": [
    "### Expectation 2"
   ]
  },
  {
   "cell_type": "code",
   "execution_count": null,
   "metadata": {
    "id": "duJPbIxoYfNc"
   },
   "outputs": [],
   "source": [
    "expectation_2 = validator.expect_column_values_to_not_be_null(\"label\")"
   ]
  },
  {
   "cell_type": "markdown",
   "metadata": {
    "id": "rCO1JE2O8lcf"
   },
   "source": [
    "### Validate Data Against Expectation 2"
   ]
  },
  {
   "cell_type": "code",
   "execution_count": null,
   "metadata": {
    "id": "0HbLTxQJ8rXp"
   },
   "outputs": [],
   "source": [
    "print(\"Expectation 2 Results:\", expectation_2)"
   ]
  },
  {
   "cell_type": "markdown",
   "metadata": {
    "id": "JEJ28eyoYfra"
   },
   "source": [
    "### Expectation 3"
   ]
  },
  {
   "cell_type": "code",
   "execution_count": null,
   "metadata": {
    "id": "tWFlN_hqYfkC"
   },
   "outputs": [],
   "source": [
    "expectation_3 = validator.expect_column_values_to_be_of_type(\"label\", \"int\")"
   ]
  },
  {
   "cell_type": "markdown",
   "metadata": {
    "id": "D9rzavkK8mqM"
   },
   "source": [
    "### Validate Data Against Expectation 3"
   ]
  },
  {
   "cell_type": "code",
   "execution_count": null,
   "metadata": {
    "id": "xGed5qns8om2"
   },
   "outputs": [],
   "source": [
    "print(\"Expectation 3 Results:\", expectation_3)"
   ]
  }
 ],
 "metadata": {
  "colab": {
   "provenance": []
  },
  "kernelspec": {
   "display_name": "Python 3 (ipykernel)",
   "language": "python",
   "name": "python3"
  },
  "language_info": {
   "codemirror_mode": {
    "name": "ipython",
    "version": 3
   },
   "file_extension": ".py",
   "mimetype": "text/x-python",
   "name": "python",
   "nbconvert_exporter": "python",
   "pygments_lexer": "ipython3",
   "version": "3.12.0"
  }
 },
 "nbformat": 4,
 "nbformat_minor": 4
}
